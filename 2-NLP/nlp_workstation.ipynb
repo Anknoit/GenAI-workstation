{
 "cells": [
  {
   "cell_type": "markdown",
   "id": "31d408e2",
   "metadata": {},
   "source": [
    "## Tokenization Example - nltk"
   ]
  },
  {
   "cell_type": "code",
   "execution_count": null,
   "id": "07ca8a23",
   "metadata": {},
   "outputs": [
    {
     "name": "stdout",
     "output_type": "stream",
     "text": [
      "\n",
      "Hi my name is Ankit, I ama software developer. I work at a Tech company and I am huge AI enthusiast. I love Energy industry along with the inersection\n",
      "of Telecom, AI, ML, IoT.\n",
      "\n"
     ]
    }
   ],
   "source": [
    "corpus = \"\"\"\n",
    "Hi my name is Ankit! I ama software developer, I work at a Tech company and I am huge AI enthusiast. I love Energy industry along with the inersection\n",
    "of Telecom, AI, ML, IoT.\n",
    "\"\"\"\n",
    "print(corpus)"
   ]
  },
  {
   "cell_type": "code",
   "execution_count": 5,
   "id": "477d2b2b",
   "metadata": {},
   "outputs": [
    {
     "name": "stdout",
     "output_type": "stream",
     "text": [
      "['\\nHi my name is Ankit, I ama software developer.', 'I work at a Tech company and I am huge AI enthusiast.', 'I love Energy industry along with the inersection\\nof Telecom, AI, ML, IoT.']\n"
     ]
    }
   ],
   "source": [
    "from nltk.tokenize import sent_tokenize #as in sentence (sent)\n",
    "\n",
    "# corpus to sentences\n",
    "sentence = sent_tokenize(corpus)\n",
    "print(sentence)"
   ]
  },
  {
   "cell_type": "code",
   "execution_count": 7,
   "id": "85d25529",
   "metadata": {},
   "outputs": [
    {
     "name": "stdout",
     "output_type": "stream",
     "text": [
      "['Hi', 'my', 'name', 'is', 'Ankit', ',', 'I', 'ama', 'software', 'developer', '.', 'I', 'work', 'at', 'a', 'Tech', 'company', 'and', 'I', 'am', 'huge', 'AI', 'enthusiast', '.', 'I', 'love', 'Energy', 'industry', 'along', 'with', 'the', 'inersection', 'of', 'Telecom', ',', 'AI', ',', 'ML', ',', 'IoT', '.']\n"
     ]
    }
   ],
   "source": [
    "from nltk.tokenize import word_tokenize\n",
    "# punctuations also treated as words\n",
    "word_token = word_tokenize(corpus)\n",
    "print(word_token)"
   ]
  },
  {
   "cell_type": "code",
   "execution_count": 8,
   "id": "479bd97b",
   "metadata": {},
   "outputs": [
    {
     "name": "stdout",
     "output_type": "stream",
     "text": [
      "['Hi', 'my', 'name', 'is', 'Ankit', ',', 'I', 'ama', 'software', 'developer', '.', 'I', 'work', 'at', 'a', 'Tech', 'company', 'and', 'I', 'am', 'huge', 'AI', 'enthusiast', '.', 'I', 'love', 'Energy', 'industry', 'along', 'with', 'the', 'inersection', 'of', 'Telecom', ',', 'AI', ',', 'ML', ',', 'IoT', '.']\n"
     ]
    }
   ],
   "source": [
    "from nltk.tokenize import wordpunct_tokenize\n",
    "wordpunct_tokenize = wordpunct_tokenize(corpus)\n",
    "print(wordpunct_tokenize)"
   ]
  }
 ],
 "metadata": {
  "kernelspec": {
   "display_name": "base",
   "language": "python",
   "name": "python3"
  },
  "language_info": {
   "codemirror_mode": {
    "name": "ipython",
    "version": 3
   },
   "file_extension": ".py",
   "mimetype": "text/x-python",
   "name": "python",
   "nbconvert_exporter": "python",
   "pygments_lexer": "ipython3",
   "version": "3.13.5"
  }
 },
 "nbformat": 4,
 "nbformat_minor": 5
}
